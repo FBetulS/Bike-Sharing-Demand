{
 "cells": [
  {
   "cell_type": "markdown",
   "id": "83feddcd-26c5-420d-b165-3dce416be4bd",
   "metadata": {},
   "source": [
    "# Bike Sharing Demand"
   ]
  },
  {
   "cell_type": "markdown",
   "id": "4a0d908f-c721-4990-8b52-b825602907f3",
   "metadata": {},
   "source": [
    "Bu proje, bisiklet paylaşım sistemlerinin talebini tahmin etmeye yönelik bir makine öğrenimi yarışmasıdır. Amacımız, belirli bir zaman diliminde bisiklet kiralama talebini etkileyen faktörleri analiz ederek doğru tahminler yapmaktır. Bu, şehir içi ulaşımın daha verimli hale getirilmesine ve bisiklet paylaşım sistemlerinin optimize edilmesine olanak tanır."
   ]
  },
  {
   "cell_type": "code",
   "execution_count": 3,
   "id": "b25cf61d-5396-4979-ac0b-d4e27a251154",
   "metadata": {},
   "outputs": [],
   "source": [
    "import pandas as pd\n",
    "import numpy as np\n",
    "from sklearn.model_selection import train_test_split, TimeSeriesSplit, GridSearchCV\n",
    "from sklearn.metrics import mean_squared_log_error\n",
    "import lightgbm as lgb\n",
    "import xgboost as xgb\n",
    "import matplotlib.pyplot as plt"
   ]
  },
  {
   "cell_type": "code",
   "execution_count": 4,
   "id": "a2b17235-50b0-4c17-8d3f-37ea6d9eb628",
   "metadata": {},
   "outputs": [],
   "source": [
    "train = pd.read_csv('train.csv')\n",
    "test = pd.read_csv('test.csv')"
   ]
  },
  {
   "cell_type": "code",
   "execution_count": 5,
   "id": "01afb867-9fe8-421e-8fe8-e8dbe804b55f",
   "metadata": {},
   "outputs": [],
   "source": [
    "for df in [train, test]:\n",
    "    df['datetime'] = pd.to_datetime(df['datetime'])\n",
    "    df['hour'] = df['datetime'].dt.hour\n",
    "    df['day'] = df['datetime'].dt.day\n",
    "    df['month'] = df['datetime'].dt.month\n",
    "    df['year'] = df['datetime'].dt.year\n",
    "    df['weekday'] = df['datetime'].dt.weekday"
   ]
  },
  {
   "cell_type": "code",
   "execution_count": 6,
   "id": "589d8f07-ea40-497d-8e47-ec687d82889f",
   "metadata": {},
   "outputs": [],
   "source": [
    "train['count'] = np.log1p(train['count'])  # log(y + 1)"
   ]
  },
  {
   "cell_type": "code",
   "execution_count": 7,
   "id": "f1a29cb9-2c5c-4ac1-91ae-158f08f61958",
   "metadata": {},
   "outputs": [],
   "source": [
    "train = train[train['count'] < np.log1p(1000)]  # 1000+ değerleri kaldır"
   ]
  },
  {
   "cell_type": "code",
   "execution_count": 8,
   "id": "89455532-478e-42b8-ab81-48dc230c1726",
   "metadata": {},
   "outputs": [],
   "source": [
    "train['temp_humidity'] = train['temp'] * train['humidity']\n",
    "test['temp_humidity'] = test['temp'] * test['humidity']"
   ]
  },
  {
   "cell_type": "code",
   "execution_count": 9,
   "id": "7e6a27e8-4b7c-4c75-abf9-714e61c5bd2b",
   "metadata": {},
   "outputs": [],
   "source": [
    "train['season_hour'] = train['season'].astype(str) + \"_\" + train['hour'].astype(str)\n",
    "test['season_hour'] = test['season'].astype(str) + \"_\" + test['hour'].astype(str)"
   ]
  },
  {
   "cell_type": "code",
   "execution_count": 10,
   "id": "9dd0693a-dff7-4784-b44c-a40cdd8d994d",
   "metadata": {},
   "outputs": [],
   "source": [
    "categorical = ['season', 'holiday', 'workingday', 'weather', 'hour', 'month', 'year', 'weekday', 'season_hour']"
   ]
  },
  {
   "cell_type": "code",
   "execution_count": 11,
   "id": "f35106df-805c-4e12-806a-909461d210fd",
   "metadata": {},
   "outputs": [],
   "source": [
    "# Veriyi hazırlama\n",
    "X = train.drop(['datetime', 'casual', 'registered', 'count'], axis=1)\n",
    "y = train['count']\n",
    "X = pd.get_dummies(X, columns=categorical)"
   ]
  },
  {
   "cell_type": "code",
   "execution_count": 12,
   "id": "d67f88a0-1280-48ac-b945-4eca65aa00e7",
   "metadata": {},
   "outputs": [],
   "source": [
    "# LightGBM model\n",
    "params = {\n",
    "    'objective': 'regression',\n",
    "    'metric': 'rmse',\n",
    "    'num_leaves': 40,\n",
    "    'learning_rate': 0.05,\n",
    "    'feature_fraction': 0.9,\n",
    "    'bagging_fraction': 0.8,\n",
    "    'bagging_freq': 5,\n",
    "    'verbose': 0\n",
    "}\n",
    "\n",
    "lgb_train = lgb.Dataset(X, y)\n",
    "model = lgb.train(params, lgb_train, num_boost_round=1000)"
   ]
  },
  {
   "cell_type": "code",
   "execution_count": 13,
   "id": "8be7b516-ce93-4998-a2bd-71f26ab46b94",
   "metadata": {},
   "outputs": [],
   "source": [
    "# GridSearch ile optimizasyon (Raj'ın yaklaşımı)\n",
    "param_grid = {\n",
    "    'max_depth': [3, 5, 7],\n",
    "    'learning_rate': [0.01, 0.05, 0.1],\n",
    "    'n_estimators': [100, 500, 1000]\n",
    "}\n",
    "\n",
    "xgb_model = xgb.XGBRegressor(objective='reg:squarederror')\n",
    "grid_search = GridSearchCV(xgb_model, param_grid, cv=5, scoring='neg_mean_squared_error')\n",
    "grid_search.fit(X, y)\n",
    "best_model = grid_search.best_estimator_"
   ]
  },
  {
   "cell_type": "code",
   "execution_count": 14,
   "id": "8f5da86b-a8b1-410a-b41c-28c7c3d5ddf0",
   "metadata": {},
   "outputs": [],
   "source": [
    "# Test verisi için özellikler\n",
    "test_processed = pd.get_dummies(test.drop('datetime', axis=1), columns=categorical)\n",
    "test_processed = test_processed.reindex(columns=X.columns, fill_value=0)"
   ]
  },
  {
   "cell_type": "code",
   "execution_count": 15,
   "id": "72171d05-3536-4b97-80ca-4298cab25897",
   "metadata": {},
   "outputs": [],
   "source": [
    "preds = model.predict(test_processed)\n",
    "final_preds = np.expm1(preds)  # Ters log dönüşümü\n",
    "\n",
    "# Dosyayı kaydet\n",
    "submission = pd.DataFrame({'datetime': test['datetime'], 'count': final_preds})\n",
    "submission.to_csv('improved_submission.csv', index=False)"
   ]
  },
  {
   "cell_type": "markdown",
   "id": "d5b1c19f-da76-4629-8839-1c65a2917218",
   "metadata": {},
   "source": [
    "# Sonuç Paragrafı\n",
    "\n",
    "Bisiklet paylaşım talebini tahmin etmek için geliştirdiğimiz modelin veriyi işleme ve modelleme aşamalarını kapsamaktadır. İlk olarak, veri setindeki tarih bilgileri ayrıştırılarak saat, gün, ay, yıl ve haftanın günü gibi yeni özellikler oluşturulmuştur. Ardından, bisiklet kiralama sayısının logaritması alınarak veri dağılımı normalize edilmiştir.\n",
    "\n",
    "Modelin eğitimi için LightGBM kullanılmış ve hiperparametre optimizasyonu için GridSearchCV ile XGBoost modeli üzerinde çalışmalar yapılmıştır. Sonuç olarak, elde edilen tahminler ile Kaggle'daki yarışma skorumuz **0.38706** olarak belirlenmiştir. Bu sonuç, fena değil; bisiklet paylaşım sistemlerinin talep tahminlerinin daha doğru ve etkili bir şekilde yapılabileceğini göstermektedir. Elde edilen sonuçlar, veri bilimi ve makine öğrenimi konularında önemli bir ilerleme kaydettiğimizi gösteriyor."
   ]
  }
 ],
 "metadata": {
  "kernelspec": {
   "display_name": "Python 3 (ipykernel)",
   "language": "python",
   "name": "python3"
  },
  "language_info": {
   "codemirror_mode": {
    "name": "ipython",
    "version": 3
   },
   "file_extension": ".py",
   "mimetype": "text/x-python",
   "name": "python",
   "nbconvert_exporter": "python",
   "pygments_lexer": "ipython3",
   "version": "3.12.7"
  }
 },
 "nbformat": 4,
 "nbformat_minor": 5
}
